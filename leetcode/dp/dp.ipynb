{
 "cells": [
  {
   "cell_type": "markdown",
   "id": "0e7e913c",
   "metadata": {},
   "source": [
    "### Leetcode322"
   ]
  },
  {
   "cell_type": "code",
   "execution_count": null,
   "id": "caf22b17",
   "metadata": {},
   "outputs": [
    {
     "name": "stdout",
     "output_type": "stream",
     "text": [
      "[0, 1, 1, 2, 2, 1, 2, 2, 3, 3, 2, 3]\n"
     ]
    }
   ],
   "source": [
    "from typing import List\n",
    "\n",
    "class Solution:\n",
    "    def coinChange(self, coins: List[int], amount: int) -> int:\n",
    "        dp = [2 ** 64 - 1] * (amount + 1)\n",
    "        dp[0] = 0\n",
    "        for coin in coins:\n",
    "            for j in range(1, amount + 1):\n",
    "                dp[j] = min(dp[j], dp[j - coin] + 1)\n",
    "\n",
    "        if dp[amount] == 2 ** 64 - 1:\n",
    "            return -1\n",
    "        print(dp)\n",
    "        return dp[amount]\n",
    "    \n",
    "if __name__ == \"__main__\":\n",
    "    solution = Solution()\n",
    "    solution.coinChange([1, 2, 5], 11)"
   ]
  },
  {
   "cell_type": "markdown",
   "id": "9e3ac2df",
   "metadata": {},
   "source": [
    "### Leetcode279"
   ]
  },
  {
   "cell_type": "code",
   "execution_count": null,
   "id": "5e5c8473",
   "metadata": {},
   "outputs": [],
   "source": [
    "class Solution:\n",
    "    def numSquares(self, n: int) -> int:\n",
    "        dp = [0] * (n + 1)\n",
    "\n",
    "        dp[0] = 0\n",
    "\n",
    "        for i in range(1, n + 1):\n",
    "            \n",
    "        "
   ]
  }
 ],
 "metadata": {
  "kernelspec": {
   "display_name": "leetcode",
   "language": "python",
   "name": "python3"
  },
  "language_info": {
   "codemirror_mode": {
    "name": "ipython",
    "version": 3
   },
   "file_extension": ".py",
   "mimetype": "text/x-python",
   "name": "python",
   "nbconvert_exporter": "python",
   "pygments_lexer": "ipython3",
   "version": "3.12.9"
  }
 },
 "nbformat": 4,
 "nbformat_minor": 5
}
