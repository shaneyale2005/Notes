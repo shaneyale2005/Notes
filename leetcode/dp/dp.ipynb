{
 "cells": [
  {
   "cell_type": "markdown",
   "id": "0e7e913c",
   "metadata": {},
   "source": [
    "### [Leetcode322-零钱兑换](https://leetcode.cn/problems/coin-change/)\n",
    "\n",
    "给定不同面额的硬币 coins 和一个总金额 amount。编写一个函数来计算可以凑成总金额所需的最少的硬币个数。如果没有任何一种硬币组合能组成总金额，返回 -1。\n",
    "你可以认为每种硬币的数量是无限的。\n",
    "\n",
    "示例 1：\n",
    "- 输入：coins = [1, 2, 5], amount = 11\n",
    "- 输出：3\n",
    "- 解释：11 = 5 + 5 + 1\n",
    "\n",
    "示例 2：\n",
    "- 输入：coins = [2], amount = 3\n",
    "- 输出：-1\n",
    "\n",
    "示例 3：\n",
    "- 输入：coins = [1], amount = 0\n",
    "- 输出：0\n",
    "\n",
    "示例 4：\n",
    "- 输入：coins = [1], amount = 1\n",
    "- 输出：1\n",
    "\n",
    "示例 5：\n",
    "- 输入：coins = [1], amount = 2\n",
    "- 输出：2\n",
    "\n",
    "提示：\n",
    "- 1 <= coins.length <= 12\n",
    "- 1 <= coins[i] <= 2^31 - 1\n",
    "- 0 <= amount <= 10^4"
   ]
  },
  {
   "cell_type": "code",
   "execution_count": null,
   "id": "caf22b17",
   "metadata": {},
   "outputs": [
    {
     "name": "stdout",
     "output_type": "stream",
     "text": [
      "[0, 1, 1, 2, 2, 1, 2, 2, 3, 3, 2, 3]\n"
     ]
    }
   ],
   "source": [
    "from typing import List\n",
    "\n",
    "class Solution:\n",
    "    def coinChange(self, coins: List[int], amount: int) -> int:\n",
    "        dp = [2 ** 64 - 1] * (amount + 1)\n",
    "        dp[0] = 0\n",
    "        for coin in coins:\n",
    "            for j in range(1, amount + 1):\n",
    "                dp[j] = min(dp[j], dp[j - coin] + 1)\n",
    "\n",
    "        if dp[amount] == 2 ** 64 - 1:\n",
    "            return -1\n",
    "        print(dp)\n",
    "        return dp[amount]\n",
    "    \n",
    "if __name__ == \"__main__\":\n",
    "    solution = Solution()\n",
    "    solution.coinChange([1, 2, 5], 11)"
   ]
  },
  {
   "cell_type": "markdown",
   "id": "9e3ac2df",
   "metadata": {},
   "source": [
    "### [Leetcode279-完全平方数](https://leetcode.cn/problems/perfect-squares/)\n",
    "\n",
    "给你一个整数 n ，返回和为 n 的完全平方数的最少数量 。\n",
    "完全平方数是一个整数，其值等于另一个整数的平方；换句话说，其值等于一个整数自乘的积。例如，1、4、9 和 16 都是完全平方数，而 3 和 11 不是。\n",
    "\n",
    "示例 1： \n",
    "- 输入：n = 12 \n",
    "- 输出：3   \n",
    "- 解释：12 = 4 + 4 + 4 \n",
    "\n",
    "示例 2： \n",
    "- 输入：n = 13 \n",
    "- 输出：2 \n",
    "- 解释：13 = 4 + 9 \n",
    "\n",
    "提示： \n",
    "1 <= n <= 10 ^ 4"
   ]
  },
  {
   "cell_type": "code",
   "execution_count": null,
   "id": "5e5c8473",
   "metadata": {},
   "outputs": [],
   "source": [
    "class Solution:\n",
    "    def numSquares(self, n: int) -> int:\n",
    "        dp = [2 ** 64 - 1] * (n + 1)\n",
    "        dp[0] = 0\n",
    "        for i in range(1, n + 1):\n",
    "            for j in range(1, int(i ** 0.5) + 1):\n",
    "                dp[i] = min(dp[i], dp[i - j * j] + 1)\n",
    "        return dp[n]            \n",
    "        "
   ]
  }
 ],
 "metadata": {
  "kernelspec": {
   "display_name": "leetcode",
   "language": "python",
   "name": "python3"
  },
  "language_info": {
   "codemirror_mode": {
    "name": "ipython",
    "version": 3
   },
   "file_extension": ".py",
   "mimetype": "text/x-python",
   "name": "python",
   "nbconvert_exporter": "python",
   "pygments_lexer": "ipython3",
   "version": "3.12.9"
  }
 },
 "nbformat": 4,
 "nbformat_minor": 5
}
