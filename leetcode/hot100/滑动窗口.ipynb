{
 "cells": [
  {
   "cell_type": "markdown",
   "id": "6fc65968",
   "metadata": {},
   "source": [
    "# [Leetcode3-无重复字符的最长子串](https://leetcode.cn/problems/longest-substring-without-repeating-characters/description/?envType=study-plan-v2&envId=top-100-liked)\n",
    "\n",
    "给定一个字符串 s ，请你找出其中不含有重复字符的最长子串的长度。 \n",
    "\n",
    "示例 1:\n",
    "- 输入: s = \"abcabcbb\"\n",
    "- 输出: 3 \n",
    "- 解释: 因为无重复字符的最长子串是 \"abc\"，所以其长度为 3。\n",
    "\n",
    "示例 2:\n",
    "- 输入: s = \"bbbbb\"\n",
    "- 输出: 1\n",
    "- 解释: 因为无重复字符的最长子串是 \"b\"，所以其长度为 1。\n",
    "\n",
    "示例 3:\n",
    "- 输入: s = \"pwwkew\"\n",
    "- 输出: 3\n",
    "- 解释: 因为无重复字符的最长子串是 \"wke\"，所以其长度为 3。请注意，你的答案必须是子串的长度，\"pwke\" 是一个子序列，不是子串。\n",
    " \n",
    "\n",
    "提示：\n",
    "- 0 <= s.length <= $5 * 10^4$\n",
    "- s 由英文字母、数字、符号和空格组成\n",
    "\n",
    "\n",
    "```cpp\n",
    "// 使用Cpp的解法\n",
    "class Solution{\n",
    "public:\n",
    "    int lengthOfLongestSubstring(string s){\n",
    "        // 注意这里的滑动窗口是左闭右开的写法\n",
    "        int left = 0;\n",
    "        int right = 0;\n",
    "        int res = 0;\n",
    "        int n = s.size();\n",
    "        unordered_map<char, int> window;\n",
    "        while (right < n) {\n",
    "            char c = s[right];\n",
    "            if (window.find(c) != window.end() && window[c] >= left) {\n",
    "                // 注意这里是收缩到重复出现的下一个字符\n",
    "                left = window[c] + 1;\n",
    "            }\n",
    "            window[c] = right;\n",
    "            ++right;\n",
    "            res = std::max(res, right - left);\n",
    "        }\n",
    "        return res;\n",
    "    }\n",
    "};\n",
    "```"
   ]
  },
  {
   "cell_type": "code",
   "execution_count": null,
   "id": "dbe05fca",
   "metadata": {},
   "outputs": [],
   "source": [
    "# 使用Py进行求解\n",
    "class Solution:\n",
    "    def lengthOfLongestSubstring(self, s):\n",
    "        left, right, res = 0, 0, 0\n",
    "        n = len(s)\n",
    "        window = {}\n",
    "        while right < n:\n",
    "            c = s[right]\n",
    "            if c in window and window[c] >= left:\n",
    "                # 还是注意这里的更新条件\n",
    "                left = window[c] + 1\n",
    "            window[c] = right\n",
    "            right += 1\n",
    "            res = max(res, right - left)\n",
    "        return res\n"
   ]
  }
 ],
 "metadata": {
  "kernelspec": {
   "display_name": "base",
   "language": "python",
   "name": "python3"
  },
  "language_info": {
   "name": "python",
   "version": "3.12.9"
  }
 },
 "nbformat": 4,
 "nbformat_minor": 5
}
