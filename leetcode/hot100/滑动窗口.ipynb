{
 "cells": [
  {
   "cell_type": "markdown",
   "id": "6fc65968",
   "metadata": {},
   "source": [
    "# [Leetcode3-无重复字符的最长子串](https://leetcode.cn/problems/longest-substring-without-repeating-characters/description/?envType=study-plan-v2&envId=top-100-liked)\n",
    "\n",
    "给定一个字符串 s ，请你找出其中不含有重复字符的最长子串的长度。 \n",
    "\n",
    "示例 1:\n",
    "- 输入: s = \"abcabcbb\"\n",
    "- 输出: 3 \n",
    "- 解释: 因为无重复字符的最长子串是 \"abc\"，所以其长度为 3。\n",
    "\n",
    "示例 2:\n",
    "- 输入: s = \"bbbbb\"\n",
    "- 输出: 1\n",
    "- 解释: 因为无重复字符的最长子串是 \"b\"，所以其长度为 1。\n",
    "\n",
    "示例 3:\n",
    "- 输入: s = \"pwwkew\"\n",
    "- 输出: 3\n",
    "- 解释: 因为无重复字符的最长子串是 \"wke\"，所以其长度为 3。请注意，你的答案必须是子串的长度，\"pwke\" 是一个子序列，不是子串。\n",
    " \n",
    "\n",
    "提示：\n",
    "- 0 <= s.length <= $5 * 10^4$\n",
    "- s 由英文字母、数字、符号和空格组成\n",
    "\n",
    "\n",
    "```cpp\n",
    "// 使用Cpp的解法\n",
    "class Solution{\n",
    "public:\n",
    "    int lengthOfLongestSubstring(string s){\n",
    "\n",
    "    }\n",
    "};\n",
    "\n",
    "\n",
    "```"
   ]
  },
  {
   "cell_type": "code",
   "execution_count": null,
   "id": "dbe05fca",
   "metadata": {},
   "outputs": [],
   "source": [
    "# 使用Py进行求解\n",
    "class Solution:\n",
    "    def lengthOfLongestSubstring(self, s):\n"
   ]
  }
 ],
 "metadata": {
  "kernelspec": {
   "display_name": "base",
   "language": "python",
   "name": "python3"
  },
  "language_info": {
   "name": "python",
   "version": "3.12.9"
  }
 },
 "nbformat": 4,
 "nbformat_minor": 5
}
