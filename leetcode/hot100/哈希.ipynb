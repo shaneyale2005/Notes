{
 "cells": [
  {
   "cell_type": "markdown",
   "id": "11c74d50",
   "metadata": {},
   "source": [
    "# [Leetcode1-两数之和](https://leetcode.cn/problems/two-sum/description/?envType=study-plan-v2&envId=top-100-liked)\n",
    "\n",
    "给定一个整数数组 nums 和一个整数目标值 target，请你在该数组中找出 和为目标值 target  的那 两个 整数，并返回它们的数组下标。\n",
    "\n",
    "你可以假设每种输入只会对应一个答案，并且你不能使用两次相同的元素。\n",
    "\n",
    "你可以按任意顺序返回答案。\n",
    "\n",
    "\n",
    "示例 1：\n",
    "- 输入：nums = [2,7,11,15], target = 9\n",
    "- 输出：[0,1]\n",
    "- 解释：因为 nums[0] + nums[1] == 9 ，返回 [0, 1] 。\n",
    "\n",
    "示例 2：\n",
    "- 输入：nums = [3,2,4], target = 6\n",
    "- 输出：[1,2]\n",
    "\n",
    "示例 3：\n",
    "- 输入：nums = [3,3], target = 6\n",
    "- 输出：[0,1]\n",
    "\n",
    "提示：\n",
    "- 2 <= nums.length <= $10 ^ 4$\n",
    "- $-10^9$ <= nums[i] <= $10 ^ 9$\n",
    "- $-10^9$ <= target <=$10 ^ 9$\n",
    "- 只会存在一个有效答案\n",
    " \n",
    "\n",
    "进阶：你可以想出一个时间复杂度小于 $O(n^2)$ 的算法吗？"
   ]
  },
  {
   "cell_type": "code",
   "execution_count": null,
   "id": "956c5fd1",
   "metadata": {},
   "outputs": [],
   "source": [
    "# 普通做法\n",
    "from typing import List\n",
    "class Solution:\n",
    "    def twoSum(self, nums: List[int], target: int) -> List[int]:\n",
    "        n = len(nums)\n",
    "        ans = []\n",
    "        for i in range(n):\n",
    "            for j in range(i + 1, n):\n",
    "                if nums[i] + nums[j] == target:\n",
    "                    ans.append(i)\n",
    "                    ans.append(j)\n",
    "        return ans"
   ]
  },
  {
   "cell_type": "code",
   "execution_count": null,
   "id": "a78bc726",
   "metadata": {},
   "outputs": [],
   "source": [
    "from typing import List\n",
    "# 使用哈希\n",
    "class Solution:\n",
    "    def twoSum(self, nums, target):\n",
    "        hash_map = {} # 这是一个字典的数据结构，用来模拟哈希\n",
    "        for index, elem in enumerate(nums):\n",
    "            complement = target - elem\n",
    "            if complement in hash_map:\n",
    "                return [hash_map[complement], index]\n",
    "            hash_map[elem] = index\n",
    "        return []"
   ]
  }
 ],
 "metadata": {
  "kernelspec": {
   "display_name": "base",
   "language": "python",
   "name": "python3"
  },
  "language_info": {
   "name": "python",
   "version": "3.12.9"
  }
 },
 "nbformat": 4,
 "nbformat_minor": 5
}
