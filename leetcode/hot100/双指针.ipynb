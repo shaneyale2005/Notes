{
 "cells": [
  {
   "cell_type": "markdown",
   "id": "ff3b2abb",
   "metadata": {},
   "source": [
    "# [Leetcode283-移动零](https://leetcode.cn/problems/move-zeroes/?envType=study-plan-v2&envId=top-100-liked)\n",
    "\n",
    "给定一个数组 nums，编写一个函数将所有 0 移动到数组的末尾，同时保持非零元素的相对顺序。\n",
    "\n",
    "请注意，必须在不复制数组的情况下原地对数组进行操作。 \n",
    "\n",
    "示例 1:\n",
    "- 输入: nums = [0,1,0,3,12]\n",
    "- 输出: [1,3,12,0,0]\n",
    "\n",
    "示例 2:\n",
    "- 输入: nums = [0]\n",
    "- 输出: [0]\n",
    "\n",
    "提示:\n",
    "  \n",
    "- $-2^{31} \\leq \\text{nums}[i] \\leq 2^{31} - 1$\n",
    "- $-2 ^ {31} $ <= nums[i] <= $2^{31} - 1$\n",
    "\n",
    "进阶：你能尽量减少完成的操作次数吗？\n",
    "\n",
    "```cpp\n",
    "// 使用Cpp求解\n",
    "class Solution{\n",
    "public:\n",
    "    void moveZeroes(vector<int>& nums){\n",
    "        // 使用快慢指针的思想，把不是0的都放在前面，后面补0即可\n",
    "        int slow = 0;\n",
    "        for (int fast = 0; fast < nums.size(); fast++) {\n",
    "            if (nums[fast] != 0) {\n",
    "                nums[slow] = nums[fast];\n",
    "                slow += 1;\n",
    "            }\n",
    "        }\n",
    "\n",
    "        for (int i = slow; i < nums.size(); i++) {\n",
    "            nums[i] = 0;\n",
    "        }\n",
    "    }    \n",
    "};\n",
    "\n",
    "```"
   ]
  },
  {
   "cell_type": "code",
   "execution_count": null,
   "id": "f845915e",
   "metadata": {},
   "outputs": [],
   "source": [
    "class Solution:\n",
    "    def moveZeroes(self, nums):\n",
    "        slow = 0\n",
    "        for num in nums:\n",
    "            if num != 0:\n",
    "                nums[slow] = num\n",
    "                slow += 1\n",
    "        for i in range(slow, len(nums)):\n",
    "            nums[i] = 0\n"
   ]
  }
 ],
 "metadata": {
  "kernelspec": {
   "display_name": "base",
   "language": "python",
   "name": "python3"
  },
  "language_info": {
   "name": "python",
   "version": "3.12.9"
  }
 },
 "nbformat": 4,
 "nbformat_minor": 5
}
